{
 "cells": [
  {
   "cell_type": "code",
   "execution_count": 18,
   "metadata": {},
   "outputs": [],
   "source": [
    "#_author_=Yao wanli\n",
    "#date=2020.12.28,Tianjin university\n",
    "##除了计算门限外，也算一下label\n",
    "##判断正常打标签为0，故障打标签为1\n",
    "#写一个图窗，来计算a（t）和b（t),I为图窗的大小，A为真实值，P为预测值\n",
    "#将预测值和真实值转换为一个pd.series方便计算\n",
    "#我们定义了误差的三次方\n",
    "##看一下np.arange函数\n",
    "#np.arange(0:5)=[0 1 2 3 4]\n",
    "def calc_dyn_THD(A,P,I,FixTHD,Model_error,THDc):\n",
    "    A=pd.Series(A)\n",
    "    P=pd.Series(P)\n",
    "    error=(A-P)**3\n",
    "    THDup=np.zeros(I-1)\n",
    "    THDdown=np.zeros(I-1)\n",
    "    THDup=P[0:(I-1)]+Model_error\n",
    "    THDdown=P[0:(I-1)]-Model_error\n",
    "    Labels=np.zeros(I-1)\n",
    "    for k in np.arange(I,len(P)):\n",
    "        mu=abs(np.mean(error[(k-I):k]))\n",
    "        if(mu<=THDc):\n",
    "            a=1\n",
    "            b=0\n",
    "        else:\n",
    "            a=0\n",
    "            b=1\n",
    "        T=P[k]+a*(P[k]-P[k-1])+b*FixTHD+Model_error\n",
    "        T1=P[k]-a*(P[k]-P[k-1])-b*FixTHD+Model_error\n",
    "        THDup=np.append(THDup,T)\n",
    "        THDdown=np.append(THDdown,T1)\n",
    "        if(A[k]>THDup) or (A[k]<THDdown):\n",
    "            Labels=np.append(Labels,1)\n",
    "        else:\n",
    "            Labels=np.append(Labels,0)\n",
    "    return Labels,THDup,THDdown,\n",
    "##定义好了函数             \n",
    "           \n",
    "           \n",
    "           \n",
    "\n",
    "\n",
    "    \n",
    "    "
   ]
  },
  {
   "cell_type": "code",
   "execution_count": 19,
   "metadata": {},
   "outputs": [],
   "source": [
    "##门限函数更正\n",
    "##动态阈值 A为真实，P为预测，I为j，K为N,写一个上下限的阈值函数\n",
    "def calc_dyn_threshold(A,P,I,N,Model_error):\n",
    "    thresholdup=np.zeros(I-1)\n",
    "    thresholddown=np.zeros(I-1)\n",
    "    thresholdup[0:(I-1)]=P[0:(I-1)]+Model_error\n",
    "    thresholddown[0:(I-1)]=P[0:(I-1)]-Model_error\n",
    "    Labels=np.zeros(I-1)\n",
    "    for k in np.arange(I,(len(P)+1)):\n",
    "        mu=np.mean(P[(k-I):k])\n",
    "        sigma=np.std(P[(k-I):k])\n",
    "        T=mu+N*sigma\n",
    "        T1=mu-N*sigma\n",
    "        thresholdup=np.append(thresholdup,T)\n",
    "        thresholddown=np.append(thresholddown,T1)\n",
    "        if(A[k]>thresholdup[k]) or (A[k-1]<thresholddown[k]):\n",
    "            Labels=np.append(Labels,1)\n",
    "        else:\n",
    "            Labels=np.append(Labels,0)\n",
    "    return Labels,thresholdup,thresholddown"
   ]
  },
  {
   "cell_type": "code",
   "execution_count": null,
   "metadata": {},
   "outputs": [],
   "source": []
  }
 ],
 "metadata": {
  "kernelspec": {
   "display_name": "Python 3",
   "language": "python",
   "name": "python3"
  },
  "language_info": {
   "codemirror_mode": {
    "name": "ipython",
    "version": 3
   },
   "file_extension": ".py",
   "mimetype": "text/x-python",
   "name": "python",
   "nbconvert_exporter": "python",
   "pygments_lexer": "ipython3",
   "version": "3.7.0"
  }
 },
 "nbformat": 4,
 "nbformat_minor": 2
}
